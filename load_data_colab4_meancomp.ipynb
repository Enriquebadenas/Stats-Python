{
  "nbformat": 4,
  "nbformat_minor": 0,
  "metadata": {
    "colab": {
      "name": "load_data_colab4_meancomp.ipynb",
      "provenance": [],
      "mount_file_id": "19iKBRF4AjzWyJcttMhiyGP_JE0Y3w7vj",
      "authorship_tag": "ABX9TyNnG62H+X4NOCTMqh+8hU0Q",
      "include_colab_link": true
    },
    "kernelspec": {
      "name": "python3",
      "display_name": "Python 3"
    },
    "language_info": {
      "name": "python"
    }
  },
  "cells": [
    {
      "cell_type": "markdown",
      "metadata": {
        "id": "view-in-github",
        "colab_type": "text"
      },
      "source": [
        "<a href=\"https://colab.research.google.com/github/Enriquebadenas/Stats-Python/blob/main/load_data_colab4_meancomp.ipynb\" target=\"_parent\"><img src=\"https://colab.research.google.com/assets/colab-badge.svg\" alt=\"Open In Colab\"/></a>"
      ]
    },
    {
      "cell_type": "code",
      "metadata": {
        "colab": {
          "base_uri": "https://localhost:8080/"
        },
        "id": "Jv1J0FN_3i6s",
        "outputId": "0e3c8dca-bb03-4444-f1f7-60b4562e81a0"
      },
      "source": [
        "\n",
        "#First we import and load all basic libraries\n",
        "\n",
        "import os\n",
        "from google.colab import drive # For linking colab to Google Drive\n",
        "import pandas as pd # For dataframe handling\n",
        "import numpy as np # For matrix and list computations\n",
        "import matplotlib.pyplot as plt # For advanced graphs\n",
        "import scipy.stats as stats\n",
        "import seaborn as sns\n",
        "from pandas.api.types import CategoricalDtype\n",
        "\n",
        "drive.mount('mydrive') #Bridge to Google Drive\n"
      ],
      "execution_count": null,
      "outputs": [
        {
          "output_type": "stream",
          "name": "stdout",
          "text": [
            "Drive already mounted at mydrive; to attempt to forcibly remount, call drive.mount(\"mydrive\", force_remount=True).\n"
          ]
        }
      ]
    },
    {
      "cell_type": "code",
      "metadata": {
        "id": "lxRiDf7g3p9M"
      },
      "source": [
        "# wbr= pd.read_excel (‘Path to file in Google drive’) #Load data\n",
        "\n",
        "datos = pd.read_csv('/content/mydrive/MyDrive/Colab Notebooks/EDEM Colab/datos_prueba2.csv', sep=',', decimal='.')\n",
        "# df #Visualise dataframe\n"
      ],
      "execution_count": null,
      "outputs": []
    },
    {
      "cell_type": "code",
      "metadata": {
        "id": "r22oIQUH36EH",
        "colab": {
          "base_uri": "https://localhost:8080/",
          "height": 739
        },
        "outputId": "03aa6237-8493-4242-9363-67bcaa081c7a"
      },
      "source": [
        "datos.shape\n",
        "datos"
      ],
      "execution_count": null,
      "outputs": [
        {
          "output_type": "execute_result",
          "data": {
            "text/html": [
              "<div>\n",
              "<style scoped>\n",
              "    .dataframe tbody tr th:only-of-type {\n",
              "        vertical-align: middle;\n",
              "    }\n",
              "\n",
              "    .dataframe tbody tr th {\n",
              "        vertical-align: top;\n",
              "    }\n",
              "\n",
              "    .dataframe thead th {\n",
              "        text-align: right;\n",
              "    }\n",
              "</style>\n",
              "<table border=\"1\" class=\"dataframe\">\n",
              "  <thead>\n",
              "    <tr style=\"text-align: right;\">\n",
              "      <th></th>\n",
              "      <th>num</th>\n",
              "      <th>Fecha</th>\n",
              "      <th>Modelo_ofertado</th>\n",
              "      <th>Precio</th>\n",
              "      <th>Market</th>\n",
              "    </tr>\n",
              "  </thead>\n",
              "  <tbody>\n",
              "    <tr>\n",
              "      <th>0</th>\n",
              "      <td>1</td>\n",
              "      <td>20/9/2021</td>\n",
              "      <td>NaN</td>\n",
              "      <td>4.011</td>\n",
              "      <td>NaN</td>\n",
              "    </tr>\n",
              "    <tr>\n",
              "      <th>1</th>\n",
              "      <td>2</td>\n",
              "      <td>20/9/2021</td>\n",
              "      <td>NaN</td>\n",
              "      <td>19.852</td>\n",
              "      <td>NaN</td>\n",
              "    </tr>\n",
              "    <tr>\n",
              "      <th>2</th>\n",
              "      <td>3</td>\n",
              "      <td>27/9/2021</td>\n",
              "      <td>352.0</td>\n",
              "      <td>70.438</td>\n",
              "      <td>Food</td>\n",
              "    </tr>\n",
              "    <tr>\n",
              "      <th>3</th>\n",
              "      <td>4</td>\n",
              "      <td>27/9/2021</td>\n",
              "      <td>302.0</td>\n",
              "      <td>46.099</td>\n",
              "      <td>Automotive</td>\n",
              "    </tr>\n",
              "    <tr>\n",
              "      <th>4</th>\n",
              "      <td>5</td>\n",
              "      <td>27/9/2021</td>\n",
              "      <td>301.0</td>\n",
              "      <td>35.627</td>\n",
              "      <td>Chem</td>\n",
              "    </tr>\n",
              "    <tr>\n",
              "      <th>5</th>\n",
              "      <td>6</td>\n",
              "      <td>27/9/2021</td>\n",
              "      <td>202.0</td>\n",
              "      <td>34.794</td>\n",
              "      <td>Food</td>\n",
              "    </tr>\n",
              "    <tr>\n",
              "      <th>6</th>\n",
              "      <td>7</td>\n",
              "      <td>4/10/2021</td>\n",
              "      <td>302.0</td>\n",
              "      <td>52.109</td>\n",
              "      <td>Automotive</td>\n",
              "    </tr>\n",
              "    <tr>\n",
              "      <th>7</th>\n",
              "      <td>8</td>\n",
              "      <td>5/10/2021</td>\n",
              "      <td>352.0</td>\n",
              "      <td>50.313</td>\n",
              "      <td>Food</td>\n",
              "    </tr>\n",
              "    <tr>\n",
              "      <th>8</th>\n",
              "      <td>9</td>\n",
              "      <td>7/10/2021</td>\n",
              "      <td>302.0</td>\n",
              "      <td>46.099</td>\n",
              "      <td>Automotive</td>\n",
              "    </tr>\n",
              "    <tr>\n",
              "      <th>9</th>\n",
              "      <td>10</td>\n",
              "      <td>8/10/2021</td>\n",
              "      <td>302.0</td>\n",
              "      <td>46.099</td>\n",
              "      <td>Food</td>\n",
              "    </tr>\n",
              "    <tr>\n",
              "      <th>10</th>\n",
              "      <td>11</td>\n",
              "      <td>8/10/2021</td>\n",
              "      <td>NaN</td>\n",
              "      <td>NaN</td>\n",
              "      <td>NaN</td>\n",
              "    </tr>\n",
              "    <tr>\n",
              "      <th>11</th>\n",
              "      <td>12</td>\n",
              "      <td>13/10/2021</td>\n",
              "      <td>353.0</td>\n",
              "      <td>66.165</td>\n",
              "      <td>Food</td>\n",
              "    </tr>\n",
              "    <tr>\n",
              "      <th>12</th>\n",
              "      <td>13</td>\n",
              "      <td>18/10/2021</td>\n",
              "      <td>NaN</td>\n",
              "      <td>NaN</td>\n",
              "      <td>NaN</td>\n",
              "    </tr>\n",
              "    <tr>\n",
              "      <th>13</th>\n",
              "      <td>14</td>\n",
              "      <td>22/10/2021</td>\n",
              "      <td>132.0</td>\n",
              "      <td>49.197</td>\n",
              "      <td>Chem</td>\n",
              "    </tr>\n",
              "    <tr>\n",
              "      <th>14</th>\n",
              "      <td>15</td>\n",
              "      <td>25/10/2021</td>\n",
              "      <td>353.0</td>\n",
              "      <td>100.000</td>\n",
              "      <td>Food</td>\n",
              "    </tr>\n",
              "    <tr>\n",
              "      <th>15</th>\n",
              "      <td>16</td>\n",
              "      <td>26/10/2021</td>\n",
              "      <td>302.0</td>\n",
              "      <td>50.000</td>\n",
              "      <td>Chem</td>\n",
              "    </tr>\n",
              "    <tr>\n",
              "      <th>16</th>\n",
              "      <td>17</td>\n",
              "      <td>28/10/2021</td>\n",
              "      <td>352.0</td>\n",
              "      <td>94.179</td>\n",
              "      <td>Food</td>\n",
              "    </tr>\n",
              "    <tr>\n",
              "      <th>17</th>\n",
              "      <td>18</td>\n",
              "      <td>28/10/2021</td>\n",
              "      <td>353.0</td>\n",
              "      <td>117.490</td>\n",
              "      <td>Food</td>\n",
              "    </tr>\n",
              "    <tr>\n",
              "      <th>18</th>\n",
              "      <td>19</td>\n",
              "      <td>10/11/2021</td>\n",
              "      <td>302.0</td>\n",
              "      <td>79.685</td>\n",
              "      <td>Automotive</td>\n",
              "    </tr>\n",
              "    <tr>\n",
              "      <th>19</th>\n",
              "      <td>20</td>\n",
              "      <td>11/11/2021</td>\n",
              "      <td>303.0</td>\n",
              "      <td>90.401</td>\n",
              "      <td>Food</td>\n",
              "    </tr>\n",
              "    <tr>\n",
              "      <th>20</th>\n",
              "      <td>21</td>\n",
              "      <td>11/11/2021</td>\n",
              "      <td>352.0</td>\n",
              "      <td>98.810</td>\n",
              "      <td>Chem</td>\n",
              "    </tr>\n",
              "    <tr>\n",
              "      <th>21</th>\n",
              "      <td>22</td>\n",
              "      <td>16/11/2021</td>\n",
              "      <td>453.0</td>\n",
              "      <td>120.000</td>\n",
              "      <td>Food</td>\n",
              "    </tr>\n",
              "  </tbody>\n",
              "</table>\n",
              "</div>"
            ],
            "text/plain": [
              "    num       Fecha  Modelo_ofertado   Precio      Market\n",
              "0     1   20/9/2021              NaN    4.011         NaN\n",
              "1     2   20/9/2021              NaN   19.852         NaN\n",
              "2     3   27/9/2021            352.0   70.438        Food\n",
              "3     4   27/9/2021            302.0   46.099  Automotive\n",
              "4     5   27/9/2021            301.0   35.627        Chem\n",
              "5     6   27/9/2021            202.0   34.794        Food\n",
              "6     7   4/10/2021            302.0   52.109  Automotive\n",
              "7     8   5/10/2021            352.0   50.313        Food\n",
              "8     9   7/10/2021            302.0   46.099  Automotive\n",
              "9    10   8/10/2021            302.0   46.099        Food\n",
              "10   11   8/10/2021              NaN      NaN         NaN\n",
              "11   12  13/10/2021            353.0   66.165        Food\n",
              "12   13  18/10/2021              NaN      NaN         NaN\n",
              "13   14  22/10/2021            132.0   49.197        Chem\n",
              "14   15  25/10/2021            353.0  100.000        Food\n",
              "15   16  26/10/2021            302.0   50.000        Chem\n",
              "16   17  28/10/2021            352.0   94.179        Food\n",
              "17   18  28/10/2021            353.0  117.490        Food\n",
              "18   19  10/11/2021            302.0   79.685  Automotive\n",
              "19   20  11/11/2021            303.0   90.401        Food\n",
              "20   21  11/11/2021            352.0   98.810        Chem\n",
              "21   22  16/11/2021            453.0  120.000        Food"
            ]
          },
          "metadata": {},
          "execution_count": 49
        }
      ]
    },
    {
      "cell_type": "markdown",
      "metadata": {
        "id": "jjfXfjPyXko7"
      },
      "source": [
        "La tabla muestra un índice de referencia asignado por Python, una columna \"num\" que coincide en este caso con el índice, \"Fecha\" como fecha de venta/oferta de los equipos, \"Modelo Ofertado\" valor numérico del modelo del equipo, \"Precio\" como precio de venta, difiere dentro de un mismo modelo por los extras añadidos. Esta última columna \"Market\" hace referencia al sector productivo de la fábrica que ha adquirido el equipo. "
      ]
    },
    {
      "cell_type": "code",
      "metadata": {
        "colab": {
          "base_uri": "https://localhost:8080/"
        },
        "id": "zdUlz64bl94u",
        "outputId": "92f47f97-9aae-43c3-99ce-7100864aef76"
      },
      "source": [
        "mytable = datos.groupby(['Modelo_ofertado']).size()\n",
        "mytable\n"
      ],
      "execution_count": null,
      "outputs": [
        {
          "output_type": "execute_result",
          "data": {
            "text/plain": [
              "Modelo_ofertado\n",
              "132.0    1\n",
              "202.0    1\n",
              "301.0    1\n",
              "302.0    6\n",
              "303.0    1\n",
              "352.0    4\n",
              "353.0    3\n",
              "453.0    1\n",
              "dtype: int64"
            ]
          },
          "metadata": {},
          "execution_count": 50
        }
      ]
    },
    {
      "cell_type": "markdown",
      "metadata": {
        "id": "oW55aplpnFdk"
      },
      "source": [
        "Mi tabla de porcentajes"
      ]
    },
    {
      "cell_type": "code",
      "metadata": {
        "colab": {
          "base_uri": "https://localhost:8080/"
        },
        "id": "Ppz_W_30oy3R",
        "outputId": "0a940356-55eb-4cc9-af11-a514b2e0a055"
      },
      "source": [
        "mytable.describe()"
      ],
      "execution_count": null,
      "outputs": [
        {
          "output_type": "execute_result",
          "data": {
            "text/plain": [
              "count    8.000000\n",
              "mean     2.250000\n",
              "std      1.908627\n",
              "min      1.000000\n",
              "25%      1.000000\n",
              "50%      1.000000\n",
              "75%      3.250000\n",
              "max      6.000000\n",
              "dtype: float64"
            ]
          },
          "metadata": {},
          "execution_count": 51
        }
      ]
    },
    {
      "cell_type": "code",
      "metadata": {
        "colab": {
          "base_uri": "https://localhost:8080/"
        },
        "id": "sotjhcL4m2VU",
        "outputId": "2ea52adb-172b-4e67-dc42-60035949bc0b"
      },
      "source": [
        "n = mytable.sum()\n",
        "mytable2 = (mytable/n)*100\n",
        "\n",
        "\n",
        "print(mytable2)\n",
        "mytable3 = round(mytable2,1)"
      ],
      "execution_count": null,
      "outputs": [
        {
          "output_type": "stream",
          "name": "stdout",
          "text": [
            "Modelo_ofertado\n",
            "132.0     5.555556\n",
            "202.0     5.555556\n",
            "301.0     5.555556\n",
            "302.0    33.333333\n",
            "303.0     5.555556\n",
            "352.0    22.222222\n",
            "353.0    16.666667\n",
            "453.0     5.555556\n",
            "dtype: float64\n"
          ]
        }
      ]
    },
    {
      "cell_type": "code",
      "metadata": {
        "id": "ujx04A3MnMwy",
        "colab": {
          "base_uri": "https://localhost:8080/",
          "height": 739
        },
        "outputId": "d1e99903-5faf-4c1a-c704-9e7e487597ff"
      },
      "source": [
        "# recode variable numérica a nominal\n",
        "datos.loc[(datos['Modelo_ofertado']==132), \"size\"]=\"Small\"\n",
        "datos.loc[(datos['Modelo_ofertado']==202), \"size\"]=\"Small\"\n",
        "datos.loc[(datos['Modelo_ofertado']==301), \"size\"]=\"Medium\"\n",
        "datos.loc[(datos['Modelo_ofertado']==302), \"size\"]=\"Medium\"\n",
        "datos.loc[(datos['Modelo_ofertado']==303), \"size\"]=\"Medium\"\n",
        "datos.loc[(datos['Modelo_ofertado']==352), \"size\"]=\"Large\"\n",
        "datos.loc[(datos['Modelo_ofertado']==353), \"size\"]=\"Large\"\n",
        "datos.loc[(datos['Modelo_ofertado']==453), \"size\"]=\"ExtraLarge\"\n",
        "\n",
        "datos"
      ],
      "execution_count": null,
      "outputs": [
        {
          "output_type": "execute_result",
          "data": {
            "text/html": [
              "<div>\n",
              "<style scoped>\n",
              "    .dataframe tbody tr th:only-of-type {\n",
              "        vertical-align: middle;\n",
              "    }\n",
              "\n",
              "    .dataframe tbody tr th {\n",
              "        vertical-align: top;\n",
              "    }\n",
              "\n",
              "    .dataframe thead th {\n",
              "        text-align: right;\n",
              "    }\n",
              "</style>\n",
              "<table border=\"1\" class=\"dataframe\">\n",
              "  <thead>\n",
              "    <tr style=\"text-align: right;\">\n",
              "      <th></th>\n",
              "      <th>num</th>\n",
              "      <th>Fecha</th>\n",
              "      <th>Modelo_ofertado</th>\n",
              "      <th>Precio</th>\n",
              "      <th>Market</th>\n",
              "      <th>size</th>\n",
              "    </tr>\n",
              "  </thead>\n",
              "  <tbody>\n",
              "    <tr>\n",
              "      <th>0</th>\n",
              "      <td>1</td>\n",
              "      <td>20/9/2021</td>\n",
              "      <td>NaN</td>\n",
              "      <td>4.011</td>\n",
              "      <td>NaN</td>\n",
              "      <td>NaN</td>\n",
              "    </tr>\n",
              "    <tr>\n",
              "      <th>1</th>\n",
              "      <td>2</td>\n",
              "      <td>20/9/2021</td>\n",
              "      <td>NaN</td>\n",
              "      <td>19.852</td>\n",
              "      <td>NaN</td>\n",
              "      <td>NaN</td>\n",
              "    </tr>\n",
              "    <tr>\n",
              "      <th>2</th>\n",
              "      <td>3</td>\n",
              "      <td>27/9/2021</td>\n",
              "      <td>352.0</td>\n",
              "      <td>70.438</td>\n",
              "      <td>Food</td>\n",
              "      <td>Large</td>\n",
              "    </tr>\n",
              "    <tr>\n",
              "      <th>3</th>\n",
              "      <td>4</td>\n",
              "      <td>27/9/2021</td>\n",
              "      <td>302.0</td>\n",
              "      <td>46.099</td>\n",
              "      <td>Automotive</td>\n",
              "      <td>Medium</td>\n",
              "    </tr>\n",
              "    <tr>\n",
              "      <th>4</th>\n",
              "      <td>5</td>\n",
              "      <td>27/9/2021</td>\n",
              "      <td>301.0</td>\n",
              "      <td>35.627</td>\n",
              "      <td>Chem</td>\n",
              "      <td>Medium</td>\n",
              "    </tr>\n",
              "    <tr>\n",
              "      <th>5</th>\n",
              "      <td>6</td>\n",
              "      <td>27/9/2021</td>\n",
              "      <td>202.0</td>\n",
              "      <td>34.794</td>\n",
              "      <td>Food</td>\n",
              "      <td>Small</td>\n",
              "    </tr>\n",
              "    <tr>\n",
              "      <th>6</th>\n",
              "      <td>7</td>\n",
              "      <td>4/10/2021</td>\n",
              "      <td>302.0</td>\n",
              "      <td>52.109</td>\n",
              "      <td>Automotive</td>\n",
              "      <td>Medium</td>\n",
              "    </tr>\n",
              "    <tr>\n",
              "      <th>7</th>\n",
              "      <td>8</td>\n",
              "      <td>5/10/2021</td>\n",
              "      <td>352.0</td>\n",
              "      <td>50.313</td>\n",
              "      <td>Food</td>\n",
              "      <td>Large</td>\n",
              "    </tr>\n",
              "    <tr>\n",
              "      <th>8</th>\n",
              "      <td>9</td>\n",
              "      <td>7/10/2021</td>\n",
              "      <td>302.0</td>\n",
              "      <td>46.099</td>\n",
              "      <td>Automotive</td>\n",
              "      <td>Medium</td>\n",
              "    </tr>\n",
              "    <tr>\n",
              "      <th>9</th>\n",
              "      <td>10</td>\n",
              "      <td>8/10/2021</td>\n",
              "      <td>302.0</td>\n",
              "      <td>46.099</td>\n",
              "      <td>Food</td>\n",
              "      <td>Medium</td>\n",
              "    </tr>\n",
              "    <tr>\n",
              "      <th>10</th>\n",
              "      <td>11</td>\n",
              "      <td>8/10/2021</td>\n",
              "      <td>NaN</td>\n",
              "      <td>NaN</td>\n",
              "      <td>NaN</td>\n",
              "      <td>NaN</td>\n",
              "    </tr>\n",
              "    <tr>\n",
              "      <th>11</th>\n",
              "      <td>12</td>\n",
              "      <td>13/10/2021</td>\n",
              "      <td>353.0</td>\n",
              "      <td>66.165</td>\n",
              "      <td>Food</td>\n",
              "      <td>Large</td>\n",
              "    </tr>\n",
              "    <tr>\n",
              "      <th>12</th>\n",
              "      <td>13</td>\n",
              "      <td>18/10/2021</td>\n",
              "      <td>NaN</td>\n",
              "      <td>NaN</td>\n",
              "      <td>NaN</td>\n",
              "      <td>NaN</td>\n",
              "    </tr>\n",
              "    <tr>\n",
              "      <th>13</th>\n",
              "      <td>14</td>\n",
              "      <td>22/10/2021</td>\n",
              "      <td>132.0</td>\n",
              "      <td>49.197</td>\n",
              "      <td>Chem</td>\n",
              "      <td>Small</td>\n",
              "    </tr>\n",
              "    <tr>\n",
              "      <th>14</th>\n",
              "      <td>15</td>\n",
              "      <td>25/10/2021</td>\n",
              "      <td>353.0</td>\n",
              "      <td>100.000</td>\n",
              "      <td>Food</td>\n",
              "      <td>Large</td>\n",
              "    </tr>\n",
              "    <tr>\n",
              "      <th>15</th>\n",
              "      <td>16</td>\n",
              "      <td>26/10/2021</td>\n",
              "      <td>302.0</td>\n",
              "      <td>50.000</td>\n",
              "      <td>Chem</td>\n",
              "      <td>Medium</td>\n",
              "    </tr>\n",
              "    <tr>\n",
              "      <th>16</th>\n",
              "      <td>17</td>\n",
              "      <td>28/10/2021</td>\n",
              "      <td>352.0</td>\n",
              "      <td>94.179</td>\n",
              "      <td>Food</td>\n",
              "      <td>Large</td>\n",
              "    </tr>\n",
              "    <tr>\n",
              "      <th>17</th>\n",
              "      <td>18</td>\n",
              "      <td>28/10/2021</td>\n",
              "      <td>353.0</td>\n",
              "      <td>117.490</td>\n",
              "      <td>Food</td>\n",
              "      <td>Large</td>\n",
              "    </tr>\n",
              "    <tr>\n",
              "      <th>18</th>\n",
              "      <td>19</td>\n",
              "      <td>10/11/2021</td>\n",
              "      <td>302.0</td>\n",
              "      <td>79.685</td>\n",
              "      <td>Automotive</td>\n",
              "      <td>Medium</td>\n",
              "    </tr>\n",
              "    <tr>\n",
              "      <th>19</th>\n",
              "      <td>20</td>\n",
              "      <td>11/11/2021</td>\n",
              "      <td>303.0</td>\n",
              "      <td>90.401</td>\n",
              "      <td>Food</td>\n",
              "      <td>Medium</td>\n",
              "    </tr>\n",
              "    <tr>\n",
              "      <th>20</th>\n",
              "      <td>21</td>\n",
              "      <td>11/11/2021</td>\n",
              "      <td>352.0</td>\n",
              "      <td>98.810</td>\n",
              "      <td>Chem</td>\n",
              "      <td>Large</td>\n",
              "    </tr>\n",
              "    <tr>\n",
              "      <th>21</th>\n",
              "      <td>22</td>\n",
              "      <td>16/11/2021</td>\n",
              "      <td>453.0</td>\n",
              "      <td>120.000</td>\n",
              "      <td>Food</td>\n",
              "      <td>ExtraLarge</td>\n",
              "    </tr>\n",
              "  </tbody>\n",
              "</table>\n",
              "</div>"
            ],
            "text/plain": [
              "    num       Fecha  Modelo_ofertado   Precio      Market        size\n",
              "0     1   20/9/2021              NaN    4.011         NaN         NaN\n",
              "1     2   20/9/2021              NaN   19.852         NaN         NaN\n",
              "2     3   27/9/2021            352.0   70.438        Food       Large\n",
              "3     4   27/9/2021            302.0   46.099  Automotive      Medium\n",
              "4     5   27/9/2021            301.0   35.627        Chem      Medium\n",
              "5     6   27/9/2021            202.0   34.794        Food       Small\n",
              "6     7   4/10/2021            302.0   52.109  Automotive      Medium\n",
              "7     8   5/10/2021            352.0   50.313        Food       Large\n",
              "8     9   7/10/2021            302.0   46.099  Automotive      Medium\n",
              "9    10   8/10/2021            302.0   46.099        Food      Medium\n",
              "10   11   8/10/2021              NaN      NaN         NaN         NaN\n",
              "11   12  13/10/2021            353.0   66.165        Food       Large\n",
              "12   13  18/10/2021              NaN      NaN         NaN         NaN\n",
              "13   14  22/10/2021            132.0   49.197        Chem       Small\n",
              "14   15  25/10/2021            353.0  100.000        Food       Large\n",
              "15   16  26/10/2021            302.0   50.000        Chem      Medium\n",
              "16   17  28/10/2021            352.0   94.179        Food       Large\n",
              "17   18  28/10/2021            353.0  117.490        Food       Large\n",
              "18   19  10/11/2021            302.0   79.685  Automotive      Medium\n",
              "19   20  11/11/2021            303.0   90.401        Food      Medium\n",
              "20   21  11/11/2021            352.0   98.810        Chem       Large\n",
              "21   22  16/11/2021            453.0  120.000        Food  ExtraLarge"
            ]
          },
          "metadata": {},
          "execution_count": 53
        }
      ]
    },
    {
      "cell_type": "code",
      "metadata": {
        "colab": {
          "base_uri": "https://localhost:8080/"
        },
        "id": "5sBXoqElWaVm",
        "outputId": "b99fbbea-cd2f-4645-8cb7-ef5fb5897eec"
      },
      "source": [
        "datos.dtypes"
      ],
      "execution_count": null,
      "outputs": [
        {
          "output_type": "execute_result",
          "data": {
            "text/plain": [
              "num                  int64\n",
              "Fecha               object\n",
              "Modelo_ofertado    float64\n",
              "Precio             float64\n",
              "Market              object\n",
              "size                object\n",
              "dtype: object"
            ]
          },
          "metadata": {},
          "execution_count": 54
        }
      ]
    },
    {
      "cell_type": "code",
      "metadata": {
        "id": "pXEwCmlfxtGn"
      },
      "source": [
        "my_categories = ['Small', 'Medium', 'Large', 'ExtraLarge'] # lista de categorías ordenadas\n"
      ],
      "execution_count": null,
      "outputs": []
    },
    {
      "cell_type": "code",
      "metadata": {
        "id": "lYSO75yAasaB"
      },
      "source": [
        "my_data_type = CategoricalDtype(categories=my_categories, ordered=True) # creación nueva clase de variables\n"
      ],
      "execution_count": null,
      "outputs": []
    },
    {
      "cell_type": "code",
      "metadata": {
        "id": "FuSC25QrayQP",
        "colab": {
          "base_uri": "https://localhost:8080/",
          "height": 739
        },
        "outputId": "3f2be541-7b7e-4b84-a8c5-97f7044db88e"
      },
      "source": [
        "datos['size_ord'] = datos['size'].astype(my_data_type) # creando la nueva columna con las categorías ordenados\n",
        "datos"
      ],
      "execution_count": null,
      "outputs": [
        {
          "output_type": "execute_result",
          "data": {
            "text/html": [
              "<div>\n",
              "<style scoped>\n",
              "    .dataframe tbody tr th:only-of-type {\n",
              "        vertical-align: middle;\n",
              "    }\n",
              "\n",
              "    .dataframe tbody tr th {\n",
              "        vertical-align: top;\n",
              "    }\n",
              "\n",
              "    .dataframe thead th {\n",
              "        text-align: right;\n",
              "    }\n",
              "</style>\n",
              "<table border=\"1\" class=\"dataframe\">\n",
              "  <thead>\n",
              "    <tr style=\"text-align: right;\">\n",
              "      <th></th>\n",
              "      <th>num</th>\n",
              "      <th>Fecha</th>\n",
              "      <th>Modelo_ofertado</th>\n",
              "      <th>Precio</th>\n",
              "      <th>Market</th>\n",
              "      <th>size</th>\n",
              "      <th>size_ord</th>\n",
              "    </tr>\n",
              "  </thead>\n",
              "  <tbody>\n",
              "    <tr>\n",
              "      <th>0</th>\n",
              "      <td>1</td>\n",
              "      <td>20/9/2021</td>\n",
              "      <td>NaN</td>\n",
              "      <td>4.011</td>\n",
              "      <td>NaN</td>\n",
              "      <td>NaN</td>\n",
              "      <td>NaN</td>\n",
              "    </tr>\n",
              "    <tr>\n",
              "      <th>1</th>\n",
              "      <td>2</td>\n",
              "      <td>20/9/2021</td>\n",
              "      <td>NaN</td>\n",
              "      <td>19.852</td>\n",
              "      <td>NaN</td>\n",
              "      <td>NaN</td>\n",
              "      <td>NaN</td>\n",
              "    </tr>\n",
              "    <tr>\n",
              "      <th>2</th>\n",
              "      <td>3</td>\n",
              "      <td>27/9/2021</td>\n",
              "      <td>352.0</td>\n",
              "      <td>70.438</td>\n",
              "      <td>Food</td>\n",
              "      <td>Large</td>\n",
              "      <td>Large</td>\n",
              "    </tr>\n",
              "    <tr>\n",
              "      <th>3</th>\n",
              "      <td>4</td>\n",
              "      <td>27/9/2021</td>\n",
              "      <td>302.0</td>\n",
              "      <td>46.099</td>\n",
              "      <td>Automotive</td>\n",
              "      <td>Medium</td>\n",
              "      <td>Medium</td>\n",
              "    </tr>\n",
              "    <tr>\n",
              "      <th>4</th>\n",
              "      <td>5</td>\n",
              "      <td>27/9/2021</td>\n",
              "      <td>301.0</td>\n",
              "      <td>35.627</td>\n",
              "      <td>Chem</td>\n",
              "      <td>Medium</td>\n",
              "      <td>Medium</td>\n",
              "    </tr>\n",
              "    <tr>\n",
              "      <th>5</th>\n",
              "      <td>6</td>\n",
              "      <td>27/9/2021</td>\n",
              "      <td>202.0</td>\n",
              "      <td>34.794</td>\n",
              "      <td>Food</td>\n",
              "      <td>Small</td>\n",
              "      <td>Small</td>\n",
              "    </tr>\n",
              "    <tr>\n",
              "      <th>6</th>\n",
              "      <td>7</td>\n",
              "      <td>4/10/2021</td>\n",
              "      <td>302.0</td>\n",
              "      <td>52.109</td>\n",
              "      <td>Automotive</td>\n",
              "      <td>Medium</td>\n",
              "      <td>Medium</td>\n",
              "    </tr>\n",
              "    <tr>\n",
              "      <th>7</th>\n",
              "      <td>8</td>\n",
              "      <td>5/10/2021</td>\n",
              "      <td>352.0</td>\n",
              "      <td>50.313</td>\n",
              "      <td>Food</td>\n",
              "      <td>Large</td>\n",
              "      <td>Large</td>\n",
              "    </tr>\n",
              "    <tr>\n",
              "      <th>8</th>\n",
              "      <td>9</td>\n",
              "      <td>7/10/2021</td>\n",
              "      <td>302.0</td>\n",
              "      <td>46.099</td>\n",
              "      <td>Automotive</td>\n",
              "      <td>Medium</td>\n",
              "      <td>Medium</td>\n",
              "    </tr>\n",
              "    <tr>\n",
              "      <th>9</th>\n",
              "      <td>10</td>\n",
              "      <td>8/10/2021</td>\n",
              "      <td>302.0</td>\n",
              "      <td>46.099</td>\n",
              "      <td>Food</td>\n",
              "      <td>Medium</td>\n",
              "      <td>Medium</td>\n",
              "    </tr>\n",
              "    <tr>\n",
              "      <th>10</th>\n",
              "      <td>11</td>\n",
              "      <td>8/10/2021</td>\n",
              "      <td>NaN</td>\n",
              "      <td>NaN</td>\n",
              "      <td>NaN</td>\n",
              "      <td>NaN</td>\n",
              "      <td>NaN</td>\n",
              "    </tr>\n",
              "    <tr>\n",
              "      <th>11</th>\n",
              "      <td>12</td>\n",
              "      <td>13/10/2021</td>\n",
              "      <td>353.0</td>\n",
              "      <td>66.165</td>\n",
              "      <td>Food</td>\n",
              "      <td>Large</td>\n",
              "      <td>Large</td>\n",
              "    </tr>\n",
              "    <tr>\n",
              "      <th>12</th>\n",
              "      <td>13</td>\n",
              "      <td>18/10/2021</td>\n",
              "      <td>NaN</td>\n",
              "      <td>NaN</td>\n",
              "      <td>NaN</td>\n",
              "      <td>NaN</td>\n",
              "      <td>NaN</td>\n",
              "    </tr>\n",
              "    <tr>\n",
              "      <th>13</th>\n",
              "      <td>14</td>\n",
              "      <td>22/10/2021</td>\n",
              "      <td>132.0</td>\n",
              "      <td>49.197</td>\n",
              "      <td>Chem</td>\n",
              "      <td>Small</td>\n",
              "      <td>Small</td>\n",
              "    </tr>\n",
              "    <tr>\n",
              "      <th>14</th>\n",
              "      <td>15</td>\n",
              "      <td>25/10/2021</td>\n",
              "      <td>353.0</td>\n",
              "      <td>100.000</td>\n",
              "      <td>Food</td>\n",
              "      <td>Large</td>\n",
              "      <td>Large</td>\n",
              "    </tr>\n",
              "    <tr>\n",
              "      <th>15</th>\n",
              "      <td>16</td>\n",
              "      <td>26/10/2021</td>\n",
              "      <td>302.0</td>\n",
              "      <td>50.000</td>\n",
              "      <td>Chem</td>\n",
              "      <td>Medium</td>\n",
              "      <td>Medium</td>\n",
              "    </tr>\n",
              "    <tr>\n",
              "      <th>16</th>\n",
              "      <td>17</td>\n",
              "      <td>28/10/2021</td>\n",
              "      <td>352.0</td>\n",
              "      <td>94.179</td>\n",
              "      <td>Food</td>\n",
              "      <td>Large</td>\n",
              "      <td>Large</td>\n",
              "    </tr>\n",
              "    <tr>\n",
              "      <th>17</th>\n",
              "      <td>18</td>\n",
              "      <td>28/10/2021</td>\n",
              "      <td>353.0</td>\n",
              "      <td>117.490</td>\n",
              "      <td>Food</td>\n",
              "      <td>Large</td>\n",
              "      <td>Large</td>\n",
              "    </tr>\n",
              "    <tr>\n",
              "      <th>18</th>\n",
              "      <td>19</td>\n",
              "      <td>10/11/2021</td>\n",
              "      <td>302.0</td>\n",
              "      <td>79.685</td>\n",
              "      <td>Automotive</td>\n",
              "      <td>Medium</td>\n",
              "      <td>Medium</td>\n",
              "    </tr>\n",
              "    <tr>\n",
              "      <th>19</th>\n",
              "      <td>20</td>\n",
              "      <td>11/11/2021</td>\n",
              "      <td>303.0</td>\n",
              "      <td>90.401</td>\n",
              "      <td>Food</td>\n",
              "      <td>Medium</td>\n",
              "      <td>Medium</td>\n",
              "    </tr>\n",
              "    <tr>\n",
              "      <th>20</th>\n",
              "      <td>21</td>\n",
              "      <td>11/11/2021</td>\n",
              "      <td>352.0</td>\n",
              "      <td>98.810</td>\n",
              "      <td>Chem</td>\n",
              "      <td>Large</td>\n",
              "      <td>Large</td>\n",
              "    </tr>\n",
              "    <tr>\n",
              "      <th>21</th>\n",
              "      <td>22</td>\n",
              "      <td>16/11/2021</td>\n",
              "      <td>453.0</td>\n",
              "      <td>120.000</td>\n",
              "      <td>Food</td>\n",
              "      <td>ExtraLarge</td>\n",
              "      <td>ExtraLarge</td>\n",
              "    </tr>\n",
              "  </tbody>\n",
              "</table>\n",
              "</div>"
            ],
            "text/plain": [
              "    num       Fecha  Modelo_ofertado  ...      Market        size    size_ord\n",
              "0     1   20/9/2021              NaN  ...         NaN         NaN         NaN\n",
              "1     2   20/9/2021              NaN  ...         NaN         NaN         NaN\n",
              "2     3   27/9/2021            352.0  ...        Food       Large       Large\n",
              "3     4   27/9/2021            302.0  ...  Automotive      Medium      Medium\n",
              "4     5   27/9/2021            301.0  ...        Chem      Medium      Medium\n",
              "5     6   27/9/2021            202.0  ...        Food       Small       Small\n",
              "6     7   4/10/2021            302.0  ...  Automotive      Medium      Medium\n",
              "7     8   5/10/2021            352.0  ...        Food       Large       Large\n",
              "8     9   7/10/2021            302.0  ...  Automotive      Medium      Medium\n",
              "9    10   8/10/2021            302.0  ...        Food      Medium      Medium\n",
              "10   11   8/10/2021              NaN  ...         NaN         NaN         NaN\n",
              "11   12  13/10/2021            353.0  ...        Food       Large       Large\n",
              "12   13  18/10/2021              NaN  ...         NaN         NaN         NaN\n",
              "13   14  22/10/2021            132.0  ...        Chem       Small       Small\n",
              "14   15  25/10/2021            353.0  ...        Food       Large       Large\n",
              "15   16  26/10/2021            302.0  ...        Chem      Medium      Medium\n",
              "16   17  28/10/2021            352.0  ...        Food       Large       Large\n",
              "17   18  28/10/2021            353.0  ...        Food       Large       Large\n",
              "18   19  10/11/2021            302.0  ...  Automotive      Medium      Medium\n",
              "19   20  11/11/2021            303.0  ...        Food      Medium      Medium\n",
              "20   21  11/11/2021            352.0  ...        Chem       Large       Large\n",
              "21   22  16/11/2021            453.0  ...        Food  ExtraLarge  ExtraLarge\n",
              "\n",
              "[22 rows x 7 columns]"
            ]
          },
          "metadata": {},
          "execution_count": 57
        }
      ]
    },
    {
      "cell_type": "code",
      "metadata": {
        "colab": {
          "base_uri": "https://localhost:8080/",
          "height": 373
        },
        "id": "epxYk0g8LCtk",
        "outputId": "7e2ed7d4-3bd2-4f81-b436-c7ebe8059390"
      },
      "source": [
        "#frequencies & barchart (nominal variable)\n",
        "mytable = pd.crosstab(datos['size_ord'], columns=\"count\", normalize='columns')*100\n",
        "print (round(mytable,1))\n",
        "plt.bar(mytable.index, mytable['count'])\n",
        "plt.ylim(0,100)\n",
        "plt.show()"
      ],
      "execution_count": null,
      "outputs": [
        {
          "output_type": "stream",
          "name": "stdout",
          "text": [
            "col_0       count\n",
            "size_ord         \n",
            "Small        11.1\n",
            "Medium       44.4\n",
            "Large        38.9\n",
            "ExtraLarge    5.6\n"
          ]
        },
        {
          "output_type": "display_data",
          "data": {
            "image/png": "[encoded data removed]",
            "text/plain": [
              "<Figure size 432x288 with 1 Axes>"
            ]
          },
          "metadata": {
            "needs_background": "light"
          }
        }
      ]
    },
    {
      "cell_type": "code",
      "metadata": {
        "colab": {
          "base_uri": "https://localhost:8080/"
        },
        "id": "T-FKf-D5SiT5",
        "outputId": "1858ed1a-f2ab-475a-fbef-104ad25dff23"
      },
      "source": [
        "mytable = pd.crosstab(index=datos[\"size_ord\"], columns=\"count\") # Crosstab\n",
        "n=mytable.sum()\n",
        "mytable2 = (mytable/n)*100\n",
        "print(mytable2)"
      ],
      "execution_count": null,
      "outputs": [
        {
          "output_type": "stream",
          "name": "stdout",
          "text": [
            "col_0           count\n",
            "size_ord             \n",
            "Small       11.111111\n",
            "Medium      44.444444\n",
            "Large       38.888889\n",
            "ExtraLarge   5.555556\n"
          ]
        }
      ]
    },
    {
      "cell_type": "code",
      "metadata": {
        "colab": {
          "base_uri": "https://localhost:8080/",
          "height": 295
        },
        "id": "pQKNEXnDSyDz",
        "outputId": "95c8f79e-1d67-4f40-f8ce-64ad721c3a15"
      },
      "source": [
        "plt.bar(mytable2.index, mytable2['count'])\n",
        "plt.xlabel('Equipment size')\n",
        "plt.title('Figure 1. Percentage sales of equipment size')\n",
        "plt.ylim(0,100)\n",
        "plt.show()"
      ],
      "execution_count": null,
      "outputs": [
        {
          "output_type": "display_data",
          "data": {
            "image/png": "[encoded data removed]",
            "text/plain": [
              "<Figure size 432x288 with 1 Axes>"
            ]
          },
          "metadata": {
            "needs_background": "light"
          }
        }
      ]
    },
    {
      "cell_type": "markdown",
      "metadata": {
        "id": "90ypyd4rTiLd"
      },
      "source": [
        "No tengo necesidad de recodificar mi variable independiente \"Market\" porque ya es categórica."
      ]
    },
    {
      "cell_type": "code",
      "metadata": {
        "colab": {
          "base_uri": "https://localhost:8080/",
          "height": 206
        },
        "id": "vuAiPx9bTJOz",
        "outputId": "37fff3df-00b5-4bbb-d5e4-e4edb09ed386"
      },
      "source": [
        "pd.crosstab(datos['size_ord'], datos['Market'], normalize='columns', margins=True)*100 # normalizamos por columnas y x100 para %"
      ],
      "execution_count": null,
      "outputs": [
        {
          "output_type": "execute_result",
          "data": {
            "text/html": [
              "<div>\n",
              "<style scoped>\n",
              "    .dataframe tbody tr th:only-of-type {\n",
              "        vertical-align: middle;\n",
              "    }\n",
              "\n",
              "    .dataframe tbody tr th {\n",
              "        vertical-align: top;\n",
              "    }\n",
              "\n",
              "    .dataframe thead th {\n",
              "        text-align: right;\n",
              "    }\n",
              "</style>\n",
              "<table border=\"1\" class=\"dataframe\">\n",
              "  <thead>\n",
              "    <tr style=\"text-align: right;\">\n",
              "      <th>Market</th>\n",
              "      <th>Automotive</th>\n",
              "      <th>Chem</th>\n",
              "      <th>Food</th>\n",
              "      <th>All</th>\n",
              "    </tr>\n",
              "    <tr>\n",
              "      <th>size_ord</th>\n",
              "      <th></th>\n",
              "      <th></th>\n",
              "      <th></th>\n",
              "      <th></th>\n",
              "    </tr>\n",
              "  </thead>\n",
              "  <tbody>\n",
              "    <tr>\n",
              "      <th>Small</th>\n",
              "      <td>0.0</td>\n",
              "      <td>25.0</td>\n",
              "      <td>10.0</td>\n",
              "      <td>11.111111</td>\n",
              "    </tr>\n",
              "    <tr>\n",
              "      <th>Medium</th>\n",
              "      <td>100.0</td>\n",
              "      <td>50.0</td>\n",
              "      <td>20.0</td>\n",
              "      <td>44.444444</td>\n",
              "    </tr>\n",
              "    <tr>\n",
              "      <th>Large</th>\n",
              "      <td>0.0</td>\n",
              "      <td>25.0</td>\n",
              "      <td>60.0</td>\n",
              "      <td>38.888889</td>\n",
              "    </tr>\n",
              "    <tr>\n",
              "      <th>ExtraLarge</th>\n",
              "      <td>0.0</td>\n",
              "      <td>0.0</td>\n",
              "      <td>10.0</td>\n",
              "      <td>5.555556</td>\n",
              "    </tr>\n",
              "  </tbody>\n",
              "</table>\n",
              "</div>"
            ],
            "text/plain": [
              "Market      Automotive  Chem  Food        All\n",
              "size_ord                                     \n",
              "Small              0.0  25.0  10.0  11.111111\n",
              "Medium           100.0  50.0  20.0  44.444444\n",
              "Large              0.0  25.0  60.0  38.888889\n",
              "ExtraLarge         0.0   0.0  10.0   5.555556"
            ]
          },
          "metadata": {},
          "execution_count": 61
        }
      ]
    },
    {
      "cell_type": "markdown",
      "metadata": {
        "id": "9JxXHZoDTuss"
      },
      "source": [
        "Comprobación con la crosstab de que los datos están agrupados correctamente y el total suma 100%"
      ]
    },
    {
      "cell_type": "code",
      "metadata": {
        "colab": {
          "base_uri": "https://localhost:8080/",
          "height": 206
        },
        "id": "isPpgF8wT8PJ",
        "outputId": "c85c1f6e-83ca-41de-b389-edaf00d112f6"
      },
      "source": [
        "my_ct = pd.crosstab(datos['size_ord'], datos['Market'], normalize='columns', margins=True)*100\n",
        "my_ct\n",
        "\n",
        "round(my_ct, 1)"
      ],
      "execution_count": null,
      "outputs": [
        {
          "output_type": "execute_result",
          "data": {
            "text/html": [
              "<div>\n",
              "<style scoped>\n",
              "    .dataframe tbody tr th:only-of-type {\n",
              "        vertical-align: middle;\n",
              "    }\n",
              "\n",
              "    .dataframe tbody tr th {\n",
              "        vertical-align: top;\n",
              "    }\n",
              "\n",
              "    .dataframe thead th {\n",
              "        text-align: right;\n",
              "    }\n",
              "</style>\n",
              "<table border=\"1\" class=\"dataframe\">\n",
              "  <thead>\n",
              "    <tr style=\"text-align: right;\">\n",
              "      <th>Market</th>\n",
              "      <th>Automotive</th>\n",
              "      <th>Chem</th>\n",
              "      <th>Food</th>\n",
              "      <th>All</th>\n",
              "    </tr>\n",
              "    <tr>\n",
              "      <th>size_ord</th>\n",
              "      <th></th>\n",
              "      <th></th>\n",
              "      <th></th>\n",
              "      <th></th>\n",
              "    </tr>\n",
              "  </thead>\n",
              "  <tbody>\n",
              "    <tr>\n",
              "      <th>Small</th>\n",
              "      <td>0.0</td>\n",
              "      <td>25.0</td>\n",
              "      <td>10.0</td>\n",
              "      <td>11.1</td>\n",
              "    </tr>\n",
              "    <tr>\n",
              "      <th>Medium</th>\n",
              "      <td>100.0</td>\n",
              "      <td>50.0</td>\n",
              "      <td>20.0</td>\n",
              "      <td>44.4</td>\n",
              "    </tr>\n",
              "    <tr>\n",
              "      <th>Large</th>\n",
              "      <td>0.0</td>\n",
              "      <td>25.0</td>\n",
              "      <td>60.0</td>\n",
              "      <td>38.9</td>\n",
              "    </tr>\n",
              "    <tr>\n",
              "      <th>ExtraLarge</th>\n",
              "      <td>0.0</td>\n",
              "      <td>0.0</td>\n",
              "      <td>10.0</td>\n",
              "      <td>5.6</td>\n",
              "    </tr>\n",
              "  </tbody>\n",
              "</table>\n",
              "</div>"
            ],
            "text/plain": [
              "Market      Automotive  Chem  Food   All\n",
              "size_ord                                \n",
              "Small              0.0  25.0  10.0  11.1\n",
              "Medium           100.0  50.0  20.0  44.4\n",
              "Large              0.0  25.0  60.0  38.9\n",
              "ExtraLarge         0.0   0.0  10.0   5.6"
            ]
          },
          "metadata": {},
          "execution_count": 62
        }
      ]
    },
    {
      "cell_type": "code",
      "metadata": {
        "colab": {
          "base_uri": "https://localhost:8080/",
          "height": 206
        },
        "id": "LJF41WtPUi_y",
        "outputId": "e7460e8c-8d15-4b42-8c01-044d63a3675f"
      },
      "source": [
        "# Statistical test\n",
        "ct = pd.crosstab(datos['size_ord'], datos['Market']) # var dependiente contra la independiente. \n",
        "ct"
      ],
      "execution_count": null,
      "outputs": [
        {
          "output_type": "execute_result",
          "data": {
            "text/html": [
              "<div>\n",
              "<style scoped>\n",
              "    .dataframe tbody tr th:only-of-type {\n",
              "        vertical-align: middle;\n",
              "    }\n",
              "\n",
              "    .dataframe tbody tr th {\n",
              "        vertical-align: top;\n",
              "    }\n",
              "\n",
              "    .dataframe thead th {\n",
              "        text-align: right;\n",
              "    }\n",
              "</style>\n",
              "<table border=\"1\" class=\"dataframe\">\n",
              "  <thead>\n",
              "    <tr style=\"text-align: right;\">\n",
              "      <th>Market</th>\n",
              "      <th>Automotive</th>\n",
              "      <th>Chem</th>\n",
              "      <th>Food</th>\n",
              "    </tr>\n",
              "    <tr>\n",
              "      <th>size_ord</th>\n",
              "      <th></th>\n",
              "      <th></th>\n",
              "      <th></th>\n",
              "    </tr>\n",
              "  </thead>\n",
              "  <tbody>\n",
              "    <tr>\n",
              "      <th>Small</th>\n",
              "      <td>0</td>\n",
              "      <td>1</td>\n",
              "      <td>1</td>\n",
              "    </tr>\n",
              "    <tr>\n",
              "      <th>Medium</th>\n",
              "      <td>4</td>\n",
              "      <td>2</td>\n",
              "      <td>2</td>\n",
              "    </tr>\n",
              "    <tr>\n",
              "      <th>Large</th>\n",
              "      <td>0</td>\n",
              "      <td>1</td>\n",
              "      <td>6</td>\n",
              "    </tr>\n",
              "    <tr>\n",
              "      <th>ExtraLarge</th>\n",
              "      <td>0</td>\n",
              "      <td>0</td>\n",
              "      <td>1</td>\n",
              "    </tr>\n",
              "  </tbody>\n",
              "</table>\n",
              "</div>"
            ],
            "text/plain": [
              "Market      Automotive  Chem  Food\n",
              "size_ord                          \n",
              "Small                0     1     1\n",
              "Medium               4     2     2\n",
              "Large                0     1     6\n",
              "ExtraLarge           0     0     1"
            ]
          },
          "metadata": {},
          "execution_count": 63
        }
      ]
    },
    {
      "cell_type": "code",
      "metadata": {
        "colab": {
          "base_uri": "https://localhost:8080/"
        },
        "id": "FfhYQqdgUxyj",
        "outputId": "c9c1810d-06d9-4ef8-d0f5-0171b4aff6e1"
      },
      "source": [
        "stats.chi2_contingency(ct)"
      ],
      "execution_count": null,
      "outputs": [
        {
          "output_type": "execute_result",
          "data": {
            "text/plain": [
              "(9.0, 0.17357807091003602, 6, array([[0.44444444, 0.44444444, 1.11111111],\n",
              "        [1.77777778, 1.77777778, 4.44444444],\n",
              "        [1.55555556, 1.55555556, 3.88888889],\n",
              "        [0.22222222, 0.22222222, 0.55555556]]))"
            ]
          },
          "metadata": {},
          "execution_count": 64
        }
      ]
    },
    {
      "cell_type": "markdown",
      "metadata": {
        "id": "dDPv-uHZU9r-"
      },
      "source": [
        "de la prueba Chi^2, p-value = 0.17 por lo tanto superior a 0.05 y no se puede decir con un intervalo de confianza del 95% que el tipo de mercado tenga influencia sobre el tamaño de los equipos vendidos."
      ]
    },
    {
      "cell_type": "code",
      "metadata": {
        "colab": {
          "base_uri": "https://localhost:8080/",
          "height": 310
        },
        "id": "KQqfU5TkU8OY",
        "outputId": "611a91c5-b9e2-4a3b-ac9f-37662add7523"
      },
      "source": [
        "my_ct2 = my_ct.transpose()\n",
        "\n",
        "# mapas de colores en Python. eligiendo sequential colormaps. slide \n",
        "my_ct2.plot(kind='bar', edgecolor='black', colormap='Blues')\n",
        "plt.ylim(0,100)\n",
        "props = dict(boxstyle='round', facecolor='white', lw=0.5)\n",
        "plt.text(0.7,80,'Chi2:9''\\n''n:21' '\\n' 'Pval.:0.17', bbox=props)\n",
        "plt.xlabel('Markets')\n",
        "plt.title('Figure 2. Percentage of sales, by Market.\\n')\n",
        "plt.xticks(rotation='horizontal')\n",
        "plt.show()"
      ],
      "execution_count": null,
      "outputs": [
        {
          "output_type": "display_data",
          "data": {
            "image/png": "[encoded data removed]",
            "text/plain": [
              "<Figure size 432x288 with 1 Axes>"
            ]
          },
          "metadata": {
            "needs_background": "light"
          }
        }
      ]
    },
    {
      "cell_type": "markdown",
      "metadata": {
        "id": "VEOt53_fvSex"
      },
      "source": [
        "# Interpretación del ejercicio.\n",
        "He cargado un dataset desde un fichero csv. He agrupado por el campo \"Modelo_ofertado\" para posteriormente realizar un cambio de variable numérica a nominal englobando los modelos por su talla: Small, Medium, Large, Extralarge.\n",
        "He ordenado las nuevas categorías, las tallas en este caso, y las he transformado a categóricas.\n",
        "No me ha hecho falta recodificar la variable independiente \"Market\" porque no es numérica, ya es categórica. El p-value ha resultado de 0.17 y al ser > 0.05 indica que no hay relación entre el tamaño de los equipos vendidos y el tipo de mercado al que pertenecen.\n",
        "El tamaño de los equipos dependerá del tamaño de la fábrica, no del sector al que pertenezca."
      ]
    }
  ]
}